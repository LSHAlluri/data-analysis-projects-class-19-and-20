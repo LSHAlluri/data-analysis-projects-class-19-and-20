{
    "cells": [
        {
            "attachments": {},
            "cell_type": "markdown",
            "metadata": {
                "azdata_cell_guid": "54326aff-51cd-4766-8046-828a92489c6d"
            },
            "source": [
                "# Studio: Working with Databases in Python\n",
                "\n",
                "For today's studio, we will be using the [TV Shows dataset](https://www.kaggle.com/ruchi798/tv-shows-on-netflix-prime-video-hulu-and-disney) from Kaggle. We have already downloaded the CSV for you.\n",
                "\n",
                "You will use the watchlist you created to answer these questions:\n",
                "\n",
                "1. **Which streaming services contain the shows you want to watch next?**\n",
                "2. **Which streaming service is the best value based on the shows you want to watch?**\n",
                "\n",
                "As you complete the different tasks in the studio, you may choose between using Pandas or SQL. \n",
                "\n",
                "**Remember**: we learned in our prep work that one is oftentimes more efficient at certain tasks than the other, so choose wisely!"
            ]
        },
        {
            "cell_type": "markdown",
            "metadata": {
                "azdata_cell_guid": "00bc62ef-6c46-40a2-bdad-a3250a003ce7"
            },
            "source": [
                "## My Watchlist\n",
                "\n",
                "If you would like, please use this space to make note of your watchlist by editing the text cell. You will need 10 shows overall.\n",
                "\n",
                "1. Dawn of the Croods\n",
                "2. Avatar: The Last Airbender\n",
                "3. 101 Dalmatians\n",
                "4. The Lion Guard\n",
                "5. OMG!\n",
                "6. Honolulu P.D.\n",
                "7. New Amsterdam\n",
                "8. Cleopatra\n",
                "9. Kulipari: An Army of Frogs \n",
                "10. The Practice"
            ]
        },
        {
            "cell_type": "markdown",
            "metadata": {
                "azdata_cell_guid": "040bdac5-f7fc-474f-b112-1d807249ad0a"
            },
            "source": [
                "## Database Setup\n",
                "\n",
                "Import the necessary libraries and create a dataframe from the provided CSV. \n",
                "\n",
                "Print the info out for the dataframe. \n",
                "\n",
                "After that, you may drop the column called `Unnamed: 0` and rename any columns with spaces or unusual characters in the names such as `\"Disney+\"`. \n",
                "\n",
                "Print out the info for the dataframe again to ensure your changes were made."
            ]
        },
        {
            "cell_type": "code",
            "execution_count": 63,
            "metadata": {
                "azdata_cell_guid": "965f15d3-27b1-43ed-97e4-8c6fd482476c",
                "tags": []
            },
            "outputs": [
                {
                    "name": "stdout",
                    "output_type": "stream",
                    "text": [
                        "      Unnamed: 0    ID                                  Title  Year  Age  \\\n",
                        "0              0     1                           Breaking Bad  2008  18+   \n",
                        "1              1     2                        Stranger Things  2016  16+   \n",
                        "2              2     3                        Attack on Titan  2013  18+   \n",
                        "3              3     4                       Better Call Saul  2015  18+   \n",
                        "4              4     5                                   Dark  2017  16+   \n",
                        "...          ...   ...                                    ...   ...  ...   \n",
                        "5363        5363  5713                       Paradise Islands  2017  NaN   \n",
                        "5364        5364  5714                         Mexico Untamed  2018  NaN   \n",
                        "5365        5365  5715                  Wild Centeral America  2020  NaN   \n",
                        "5366        5366  5716                            Wild Russia  2018  NaN   \n",
                        "5367        5367  5717  Fearless Adventures with Jack Randall  2018  NaN   \n",
                        "\n",
                        "        IMDb Rotten Tomatoes  Netflix  Hulu  Prime Video  Disney+  Type  \n",
                        "0     9.4/10         100/100        1     0            0        0     1  \n",
                        "1     8.7/10          96/100        1     0            0        0     1  \n",
                        "2     9.0/10          95/100        1     1            0        0     1  \n",
                        "3     8.8/10          94/100        1     0            0        0     1  \n",
                        "4     8.8/10          93/100        1     0            0        0     1  \n",
                        "...      ...             ...      ...   ...          ...      ...   ...  \n",
                        "5363     NaN          10/100        0     0            0        1     1  \n",
                        "5364     NaN          10/100        0     0            0        1     1  \n",
                        "5365     NaN          10/100        0     0            0        1     1  \n",
                        "5366     NaN          10/100        0     0            0        1     1  \n",
                        "5367     NaN          10/100        0     0            0        1     1  \n",
                        "\n",
                        "[5368 rows x 12 columns]\n"
                    ]
                }
            ],
            "source": [
                "# Code here\n",
                "import pandas as pd\n",
                "import sqlite3\n",
                "\n",
                "#  create the dataframe from the csv file \n",
                "df = pd.read_csv(\"tv_shows.csv\")\n",
                "\n",
                "print(df)"
            ]
        },
        {
            "cell_type": "code",
            "execution_count": 64,
            "metadata": {},
            "outputs": [
                {
                    "name": "stdout",
                    "output_type": "stream",
                    "text": [
                        "        ID                                  Title  Year  Age    IMDb  \\\n",
                        "0        1                           Breaking Bad  2008  18+  9.4/10   \n",
                        "1        2                        Stranger Things  2016  16+  8.7/10   \n",
                        "2        3                        Attack on Titan  2013  18+  9.0/10   \n",
                        "3        4                       Better Call Saul  2015  18+  8.8/10   \n",
                        "4        5                                   Dark  2017  16+  8.8/10   \n",
                        "...    ...                                    ...   ...  ...     ...   \n",
                        "5363  5713                       Paradise Islands  2017  NaN     NaN   \n",
                        "5364  5714                         Mexico Untamed  2018  NaN     NaN   \n",
                        "5365  5715                  Wild Centeral America  2020  NaN     NaN   \n",
                        "5366  5716                            Wild Russia  2018  NaN     NaN   \n",
                        "5367  5717  Fearless Adventures with Jack Randall  2018  NaN     NaN   \n",
                        "\n",
                        "     Rotten_Tomatoes  Netflix  Hulu  Prime_Video  Disney_Plus  Type  \n",
                        "0            100/100        1     0            0            0     1  \n",
                        "1             96/100        1     0            0            0     1  \n",
                        "2             95/100        1     1            0            0     1  \n",
                        "3             94/100        1     0            0            0     1  \n",
                        "4             93/100        1     0            0            0     1  \n",
                        "...              ...      ...   ...          ...          ...   ...  \n",
                        "5363          10/100        0     0            0            1     1  \n",
                        "5364          10/100        0     0            0            1     1  \n",
                        "5365          10/100        0     0            0            1     1  \n",
                        "5366          10/100        0     0            0            1     1  \n",
                        "5367          10/100        0     0            0            1     1  \n",
                        "\n",
                        "[5368 rows x 11 columns]\n"
                    ]
                }
            ],
            "source": [
                "# list the columns of the tv_shows dataframe\n",
                "df.columns\n",
                "# 'Unnamed: 0', 'ID', 'Title', 'Year', 'Age', 'IMDb', 'Rotten Tomatoes',\n",
                "#        'Netflix', 'Hulu', 'Prime Video', 'Disney+', 'Type'],\n",
                "#       dtype='object'\n",
                "\n",
                "# drop the 'Unnamed: 0' column\n",
                "df = df.drop(columns=['Unnamed: 0'], axis=1)\n",
                "\n",
                "# Rename multiple columns\n",
                "df.rename(columns={'Rotten Tomatoes': 'Rotten_Tomatoes', \n",
                "                   'Prime Video': 'Prime_Video',\n",
                "                   'Disney+': 'Disney_Plus'}, inplace=True)\n",
                "\n",
                "print(df)"
            ]
        },
        {
            "attachments": {},
            "cell_type": "markdown",
            "metadata": {
                "azdata_cell_guid": "93875e01-f1ec-45ab-b8b3-c0fe09c89c41"
            },
            "source": [
                "With your dataframe at the ready, create a new database called `tv.db`. \n",
                "\n",
                "Add a new table to your database called `shows` using the data in the dataframe. "
            ]
        },
        {
            "cell_type": "code",
            "execution_count": 66,
            "metadata": {
                "azdata_cell_guid": "cae4affc-d930-4649-9c39-551475a83b5b",
                "tags": []
            },
            "outputs": [
                {
                    "data": {
                        "text/plain": [
                            "<sqlite3.Cursor at 0x7fe5685c3f80>"
                        ]
                    },
                    "execution_count": 66,
                    "metadata": {},
                    "output_type": "execute_result"
                }
            ],
            "source": [
                "# Code here\n",
                "# connect to a SQLite database. If 'tv.db' database file doesnt exist a new one is created\n",
                "connection = sqlite3.connect('tv.db')\n",
                "\n",
                "# create a cursor to execute commands using the connection\n",
                "cursor = connection.cursor()\n",
                "\n",
                "# Method 1\n",
                "# CREATE NEW TABLE IN DATABASE FILE USING PYTHON DATAFRAME\n",
                "# # Write the DataFrame into database as new table 'shows', if exsists replace it\n",
                "# # and don't add an index column\n",
                "# df.to_sql('shows_table', connection, if_exists=\"replace\", index=False)\n",
                "\n",
                "# Method 2\n",
                "# CREATE NEW TABLE IN DATABSE FILE USING PYTHON SQLITE3\n",
                "# execute command to create a new table shows_table with the df\n",
                "# dataframe data\n",
                "connection.execute('''\n",
                "        CREATE TABLE IF NOT EXISTS shows_table as\n",
                "                   select * from df\n",
                "                   ''')"
            ]
        },
        {
            "attachments": {},
            "cell_type": "markdown",
            "metadata": {
                "azdata_cell_guid": "4916f211-149f-467b-b5e4-22ad946b54f2"
            },
            "source": [
                "With your new table and database set up, print out the top 20 records in the `shows` table."
            ]
        },
        {
            "cell_type": "code",
            "execution_count": 67,
            "metadata": {
                "azdata_cell_guid": "c6aa3980-3eef-4d7d-8f04-961508662147",
                "tags": []
            },
            "outputs": [
                {
                    "data": {
                        "text/html": [
                            "<div>\n",
                            "<style scoped>\n",
                            "    .dataframe tbody tr th:only-of-type {\n",
                            "        vertical-align: middle;\n",
                            "    }\n",
                            "\n",
                            "    .dataframe tbody tr th {\n",
                            "        vertical-align: top;\n",
                            "    }\n",
                            "\n",
                            "    .dataframe thead th {\n",
                            "        text-align: right;\n",
                            "    }\n",
                            "</style>\n",
                            "<table border=\"1\" class=\"dataframe\">\n",
                            "  <thead>\n",
                            "    <tr style=\"text-align: right;\">\n",
                            "      <th></th>\n",
                            "      <th>index</th>\n",
                            "      <th>ID</th>\n",
                            "      <th>Title</th>\n",
                            "      <th>Year</th>\n",
                            "      <th>Age</th>\n",
                            "      <th>IMDb</th>\n",
                            "      <th>Rotten_Tomatoes</th>\n",
                            "      <th>Netflix</th>\n",
                            "      <th>Hulu</th>\n",
                            "      <th>Prime_Video</th>\n",
                            "      <th>Disney_Plus</th>\n",
                            "      <th>Type</th>\n",
                            "    </tr>\n",
                            "  </thead>\n",
                            "  <tbody>\n",
                            "    <tr>\n",
                            "      <th>0</th>\n",
                            "      <td>0</td>\n",
                            "      <td>1</td>\n",
                            "      <td>Breaking Bad</td>\n",
                            "      <td>2008</td>\n",
                            "      <td>18+</td>\n",
                            "      <td>9.4/10</td>\n",
                            "      <td>100/100</td>\n",
                            "      <td>1</td>\n",
                            "      <td>0</td>\n",
                            "      <td>0</td>\n",
                            "      <td>0</td>\n",
                            "      <td>1</td>\n",
                            "    </tr>\n",
                            "    <tr>\n",
                            "      <th>1</th>\n",
                            "      <td>1</td>\n",
                            "      <td>2</td>\n",
                            "      <td>Stranger Things</td>\n",
                            "      <td>2016</td>\n",
                            "      <td>16+</td>\n",
                            "      <td>8.7/10</td>\n",
                            "      <td>96/100</td>\n",
                            "      <td>1</td>\n",
                            "      <td>0</td>\n",
                            "      <td>0</td>\n",
                            "      <td>0</td>\n",
                            "      <td>1</td>\n",
                            "    </tr>\n",
                            "    <tr>\n",
                            "      <th>2</th>\n",
                            "      <td>2</td>\n",
                            "      <td>3</td>\n",
                            "      <td>Attack on Titan</td>\n",
                            "      <td>2013</td>\n",
                            "      <td>18+</td>\n",
                            "      <td>9.0/10</td>\n",
                            "      <td>95/100</td>\n",
                            "      <td>1</td>\n",
                            "      <td>1</td>\n",
                            "      <td>0</td>\n",
                            "      <td>0</td>\n",
                            "      <td>1</td>\n",
                            "    </tr>\n",
                            "    <tr>\n",
                            "      <th>3</th>\n",
                            "      <td>3</td>\n",
                            "      <td>4</td>\n",
                            "      <td>Better Call Saul</td>\n",
                            "      <td>2015</td>\n",
                            "      <td>18+</td>\n",
                            "      <td>8.8/10</td>\n",
                            "      <td>94/100</td>\n",
                            "      <td>1</td>\n",
                            "      <td>0</td>\n",
                            "      <td>0</td>\n",
                            "      <td>0</td>\n",
                            "      <td>1</td>\n",
                            "    </tr>\n",
                            "    <tr>\n",
                            "      <th>4</th>\n",
                            "      <td>4</td>\n",
                            "      <td>5</td>\n",
                            "      <td>Dark</td>\n",
                            "      <td>2017</td>\n",
                            "      <td>16+</td>\n",
                            "      <td>8.8/10</td>\n",
                            "      <td>93/100</td>\n",
                            "      <td>1</td>\n",
                            "      <td>0</td>\n",
                            "      <td>0</td>\n",
                            "      <td>0</td>\n",
                            "      <td>1</td>\n",
                            "    </tr>\n",
                            "  </tbody>\n",
                            "</table>\n",
                            "</div>"
                        ],
                        "text/plain": [
                            "   index  ID             Title  Year  Age    IMDb Rotten_Tomatoes  Netflix  \\\n",
                            "0      0   1      Breaking Bad  2008  18+  9.4/10         100/100        1   \n",
                            "1      1   2   Stranger Things  2016  16+  8.7/10          96/100        1   \n",
                            "2      2   3   Attack on Titan  2013  18+  9.0/10          95/100        1   \n",
                            "3      3   4  Better Call Saul  2015  18+  8.8/10          94/100        1   \n",
                            "4      4   5              Dark  2017  16+  8.8/10          93/100        1   \n",
                            "\n",
                            "   Hulu  Prime_Video  Disney_Plus  Type  \n",
                            "0     0            0            0     1  \n",
                            "1     0            0            0     1  \n",
                            "2     1            0            0     1  \n",
                            "3     0            0            0     1  \n",
                            "4     0            0            0     1  "
                        ]
                    },
                    "execution_count": 67,
                    "metadata": {},
                    "output_type": "execute_result"
                }
            ],
            "source": [
                "# Code Here\n",
                "# read data from newly created table\n",
                "shows_table_df = pd.read_sql_query('Select * from shows_table', connection)\n",
                "shows_table_df.head()"
            ]
        },
        {
            "attachments": {},
            "cell_type": "markdown",
            "metadata": {
                "azdata_cell_guid": "f158ccd2-c87a-4d2c-a947-0eadd0484a3e"
            },
            "source": [
                "Now, create a new table called `watchlist` that has three fields:\n",
                "1. id -> data type of `INTEGER NOT NULL PRIMARY KEY AUTOINCREMENT`\n",
                "2. title -> data type of `TEXT`\n",
                "3. importance_rank -> data type of `INTEGER`\n",
                "\n",
                "For the `importance_rank` field, rank each of your watchlist shows based on how much you want to see them, `10` being the most important and `1` being the least important.\n",
                "\n",
                "Then, insert each of the items from your watchlist into the new `watchlist` table, using the `executemany` method from our exercises.\n",
                "\n",
                "Finally, select all the records from the `watchlist` table and print them out to the console."
            ]
        },
        {
            "cell_type": "code",
            "execution_count": 78,
            "metadata": {
                "azdata_cell_guid": "f95defad-521b-4112-8435-08daaac80b80"
            },
            "outputs": [
                {
                    "data": {
                        "text/plain": [
                            "<sqlite3.Cursor at 0x7fe5687e8810>"
                        ]
                    },
                    "execution_count": 78,
                    "metadata": {},
                    "output_type": "execute_result"
                }
            ],
            "source": [
                "# Create table\n",
                "\n",
                "# cursor.execute(\"Drop table watchlist\")\n",
                "cursor.execute(\"CREATE TABLE watchlist (id INTEGER NOT NULL PRIMARY KEY AUTOINCREMENT, title TEXT, importance_rank INTEGER)\")\n"
            ]
        },
        {
            "cell_type": "code",
            "execution_count": 79,
            "metadata": {},
            "outputs": [],
            "source": [
                "# INSERT data into the new table\n",
                "\n",
                "sql = 'INSERT INTO watchlist (title, importance_rank) values(?,?)'\n",
                "data = [ (\"Avatar: The Last Airbender\", 6),\n",
                "          (\"OMG!\", 1),\n",
                "          (\"Honolulu P.D.\", 8),\n",
                "          (\"The Lion Guard\",2),\n",
                "          (\"The Practice\",9),\n",
                "          (\"Kulipari: An Army of Frogs \",3),\n",
                "          (\"101 Dalmatians\",4),\n",
                "          (\"Dawn of the Croods\", 7),\n",
                "          (\"New Amsterdam\", 10),\n",
                "          (\"Cleopatra\", 5)\n",
                "]\n",
                "with connection:\n",
                "    # the sqlite3 `executemany` method to run a sql statement for each element within a list\n",
                "    connection.executemany(sql, data)"
            ]
        },
        {
            "cell_type": "code",
            "execution_count": 80,
            "metadata": {},
            "outputs": [
                {
                    "name": "stdout",
                    "output_type": "stream",
                    "text": [
                        "(1, 'Avatar: The Last Airbender', 6)\n",
                        "(2, 'OMG!', 1)\n",
                        "(3, 'Honolulu P.D.', 8)\n",
                        "(4, 'The Lion Guard', 2)\n",
                        "(5, 'The Practice', 9)\n",
                        "(6, 'Kulipari: An Army of Frogs ', 3)\n",
                        "(7, '101 Dalmatians', 4)\n",
                        "(8, 'Dawn of the Croods', 7)\n",
                        "(9, 'New Amsterdam', 10)\n",
                        "(10, 'Cleopatra', 5)\n"
                    ]
                }
            ],
            "source": [
                "# read data\n",
                "\n",
                "with connection:\n",
                "    for row in cursor.execute(\"SELECT * FROM watchlist\"):\n",
                "        print(row)"
            ]
        },
        {
            "attachments": {},
            "cell_type": "markdown",
            "metadata": {
                "azdata_cell_guid": "4716090d-63e3-4283-8245-934c4a28c750"
            },
            "source": [
                "## Working with the Data\n",
                "\n",
                "Using Pandas or SQL, find the answer to these 2 questions:\n",
                "1. How many of the total shows (full csv list) are on each streaming service?\n",
                "2. What percentage of these total shows is available on each streaming service?\n",
                "\n",
                "**Hint**:\n",
                "\n",
                "Use the pandas `query` method to filter the data, and then the Python `len` method to find it's length. [Relevant Link](https://www.geeksforgeeks.org/ways-to-filter-pandas-dataframe-by-column-values/)"
            ]
        },
        {
            "cell_type": "code",
            "execution_count": 90,
            "metadata": {
                "azdata_cell_guid": "8e4f3757-474f-4e20-b861-db973437b541"
            },
            "outputs": [
                {
                    "name": "stdout",
                    "output_type": "stream",
                    "text": [
                        "Total shows on each streaming service:\n",
                        "Netflix        1971\n",
                        "Hulu           1621\n",
                        "Prime_Video    1831\n",
                        "Disney_Plus     351\n",
                        "dtype: int64\n",
                        "Total number of shows: 5368\n",
                        "\n",
                        "Percentage of total shows on each streaming service:\n",
                        "Netflix        36.717586\n",
                        "Hulu           30.197466\n",
                        "Prime_Video    34.109538\n",
                        "Disney_Plus     6.538748\n",
                        "dtype: float64\n"
                    ]
                }
            ],
            "source": [
                "# Code here\n",
                "# list of the streaming services in the dataset\n",
                "service_columns = ['Netflix', 'Hulu', 'Prime_Video', 'Disney_Plus']\n",
                "\n",
                "# Initialize a dictionary to store counts\n",
                "service_counts = {}\n",
                "\n",
                "# Total shows on each streaming service\n",
                "for service in service_columns:\n",
                "    service_counts[service] = df[service].sum() \n",
                "\n",
                "# Convert to a Series for easier manipulation\n",
                "service_counts = pd.Series(service_counts)\n",
                "\n",
                "print(\"Total shows on each streaming service:\")\n",
                "print(service_counts)\n",
                "\n",
                "\n",
                "# Calculate total number of shows\n",
                "total_shows = len(df)\n",
                "print(\"Total number of shows:\", total_shows)\n",
                "\n",
                "# Calculate percentage of shows on each service\n",
                "service_percentage = (service_counts / total_shows) * 100\n",
                "\n",
                "print(\"\\nPercentage of total shows on each streaming service:\")\n",
                "print(service_percentage)"
            ]
        },
        {
            "attachments": {},
            "cell_type": "markdown",
            "metadata": {
                "azdata_cell_guid": "167cbd0d-ad9f-4f27-8066-e45dfdfaf421"
            },
            "source": [
                "\n",
                "Now join your `watchlist` data to the `shows` data using pandas or SQL. Verify that you joined the data correctly.\n",
                "\n",
                "Using this related dataset, come up with analytic code that answers these questions:\n",
                "1. The number of watchlist shows each streaming service has\n",
                "2. The percentage of your overall watchlist each streaming service has\n"
            ]
        },
        {
            "cell_type": "code",
            "execution_count": 91,
            "metadata": {
                "azdata_cell_guid": "b871523e-a476-4f3a-a6ac-2e251f140e84"
            },
            "outputs": [],
            "source": [
                "# Code here\n",
                "\n"
            ]
        },
        {
            "cell_type": "markdown",
            "metadata": {
                "azdata_cell_guid": "909689e4-1aae-41e3-b1f8-158ebe5ec3ca"
            },
            "source": [
                "## Results\n",
                "\n",
                "Now that you have done your analysis, make note of the answers to the following questions by editing the text cell:\n",
                "\n",
                "1. Was every show on your watchlist in the Kaggle dataset? Do you have any ideas as to why a show might not have been present?\n",
                "\n",
                "- *your_answer*\n",
                "\n",
                "2. Did you include a show or shows in your watchlist that is exclusive to one of the platforms? How might that have impacted your analysis?\n",
                "\n",
                "- *your_answer*\n",
                "\n",
                "3. Which streaming service(s) offered the most shows on your watchlist? Which streaming service(s) offered the least?\n",
                "\n",
                "- *your_answer*\n",
                "\n",
                "4. Based on the shows you want to watch and the results of your analysis, is there a streaming service you think would be a good fit for you?\n",
                "\n",
                "- *your_answer*"
            ]
        },
        {
            "cell_type": "markdown",
            "metadata": {},
            "source": [
                "# Bonus Mission\n",
                "\n",
                "We didn't end up using that `importance_rank` field, did we?\n",
                "\n",
                "Well, that was intentional! \n",
                "\n",
                "Your bonus mission is to come up with analysis that uses that field to determine, based on watchlist show importance_rank and number of watchlist shows available on a service, which platform you should subscribe to."
            ]
        },
        {
            "cell_type": "code",
            "execution_count": null,
            "metadata": {},
            "outputs": [],
            "source": [
                "# Code Here"
            ]
        }
    ],
    "metadata": {
        "kernelspec": {
            "display_name": "Python 3",
            "language": "python",
            "name": "python3"
        },
        "language_info": {
            "codemirror_mode": {
                "name": "ipython",
                "version": 3
            },
            "file_extension": ".py",
            "mimetype": "text/x-python",
            "name": "python",
            "nbconvert_exporter": "python",
            "pygments_lexer": "ipython3",
            "version": "3.8.8"
        }
    },
    "nbformat": 4,
    "nbformat_minor": 2
}
